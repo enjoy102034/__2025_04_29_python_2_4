{
 "cells": [
  {
   "cell_type": "code",
   "execution_count": null,
   "id": "e94bc616",
   "metadata": {},
   "outputs": [],
   "source": [
    "BMI 解答1\n",
    "eight = eval(input(\"請輸入您的身高(公分):\"))\n",
    "weight = eval(input(\"請輸入您的體重(公斤):\"))\n",
    "\n",
    "BMI = weight/(height/100)**2\n",
    "\n",
    "print(f\"您的身高是:{height}公分\")\n",
    "print(f\"您的體重是:{weight}公斤\")\n",
    "print(f\"您的BMI結果是:{BMI:.2f}\")"
   ]
  }
 ],
 "metadata": {
  "language_info": {
   "name": "python"
  }
 },
 "nbformat": 4,
 "nbformat_minor": 5
}

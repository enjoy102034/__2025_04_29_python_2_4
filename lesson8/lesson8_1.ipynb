{
 "cells": [
  {
   "cell_type": "markdown",
   "id": "3669fbcc",
   "metadata": {},
   "source": [
    "### tuple\n",
    "- immutable(不可變的變數)\n",
    "- Sequence(串列資料)\n",
    "- iterable(可重覆讀取)\n",
    "- 拆解法\n",
    "- 用括號符號()建立\n",
    "- typehint(tuple)"
   ]
  },
  {
   "cell_type": "code",
   "execution_count": 3,
   "id": "3e947d60",
   "metadata": {},
   "outputs": [
    {
     "name": "stdout",
     "output_type": "stream",
     "text": [
      "robert\n",
      "45\n"
     ]
    }
   ],
   "source": [
    "#拆解法\n",
    "name, age = \"robert\", 45\n",
    "print(name)\n",
    "print(age)"
   ]
  },
  {
   "cell_type": "markdown",
   "id": "dd7fc61f",
   "metadata": {},
   "source": [
    "### list\n",
    "- mutable(可變的變數)\n",
    "- Sequence(串列資料)\n",
    "- iterable(可重覆讀取)\n",
    "- 用中括號符號[]來建立\n",
    "- typehint(list)"
   ]
  },
  {
   "cell_type": "code",
   "execution_count": 4,
   "id": "551d46e4",
   "metadata": {},
   "outputs": [
    {
     "data": {
      "text/plain": [
       "list"
      ]
     },
     "execution_count": 4,
     "metadata": {},
     "output_type": "execute_result"
    }
   ],
   "source": [
    "#建立list\n",
    "weekdays = ['星期一', '星期二', '星期三', '星期四', '星期五', '星期六', '星期日'] \n",
    "type(weekdays)"
   ]
  },
  {
   "cell_type": "code",
   "execution_count": 5,
   "id": "672c5720",
   "metadata": {},
   "outputs": [
    {
     "data": {
      "text/plain": [
       "'星期日'"
      ]
     },
     "execution_count": 5,
     "metadata": {},
     "output_type": "execute_result"
    }
   ],
   "source": [
    "#取出元素和修改元素\n",
    "#使用[index]\n",
    "weekdays[0]\n",
    "weekdays[1]\n",
    "weekdays[-2]\n",
    "weekdays[-1]"
   ]
  },
  {
   "cell_type": "code",
   "execution_count": 6,
   "id": "d0d2bb69",
   "metadata": {},
   "outputs": [
    {
     "data": {
      "text/plain": [
       "['星期一', '星期二', '星期三']"
      ]
     },
     "execution_count": 6,
     "metadata": {},
     "output_type": "execute_result"
    }
   ],
   "source": [
    "#[slice]\n",
    "#[起始(包含):結束(不包含)]\n",
    "\n",
    "weekdays[0:3]\n",
    "weekdays[-3:-1]\n",
    "weekdays[-3:] #取最後3個\n",
    "weekdays[:3] #取前3個"
   ]
  },
  {
   "cell_type": "code",
   "execution_count": null,
   "id": "1f7159f2",
   "metadata": {},
   "outputs": [],
   "source": [
    "for day in weekdays:\n",
    "    print(day)"
   ]
  },
  {
   "cell_type": "markdown",
   "id": "2c08c69e",
   "metadata": {},
   "source": [
    "### dict\n",
    "- mutable(可變的變數)\n",
    "- Mapping(mapping資料)\n",
    "- iterable(可重覆讀取)\n",
    "- 用大括號符號{key:value}來建立\n",
    "- typehint(dict)"
   ]
  },
  {
   "cell_type": "code",
   "execution_count": 7,
   "id": "ede8a55c",
   "metadata": {},
   "outputs": [
    {
     "data": {
      "text/plain": [
       "{'tw': 'Taiwan', 'jp': 'Japan', 'hk': 'Hong Kong'}"
      ]
     },
     "execution_count": 7,
     "metadata": {},
     "output_type": "execute_result"
    }
   ],
   "source": [
    "codes = {\"tw\":\"Taiwan\", \"jp\":\"Japan\", \"hk\":\"Hong Kong\"}\n",
    "codes"
   ]
  },
  {
   "cell_type": "code",
   "execution_count": 8,
   "id": "0a24b029",
   "metadata": {},
   "outputs": [
    {
     "data": {
      "text/plain": [
       "'Taiwan'"
      ]
     },
     "execution_count": 8,
     "metadata": {},
     "output_type": "execute_result"
    }
   ],
   "source": [
    "codes['tw']"
   ]
  },
  {
   "cell_type": "code",
   "execution_count": 9,
   "id": "9b4d7e4d",
   "metadata": {},
   "outputs": [
    {
     "name": "stdout",
     "output_type": "stream",
     "text": [
      "tw\n",
      "Taiwan\n",
      "======\n",
      "jp\n",
      "Japan\n",
      "======\n",
      "hk\n",
      "Hong Kong\n",
      "======\n"
     ]
    }
   ],
   "source": [
    "for key in codes:\n",
    "    print(key)\n",
    "    print(codes[key])\n",
    "    print(\"======\")"
   ]
  },
  {
   "cell_type": "markdown",
   "id": "7d83ed0d",
   "metadata": {},
   "source": [
    "### set\n",
    "- 元素不可以重覆\n",
    "- 符號建立方式大括號{}"
   ]
  },
  {
   "cell_type": "code",
   "execution_count": null,
   "id": "085560be",
   "metadata": {},
   "outputs": [],
   "source": [
    "#set\n",
    "citys = {'台北','台中','高雄','台北','台中','高雄'}\n",
    "citys"
   ]
  }
 ],
 "metadata": {
  "kernelspec": {
   "display_name": "base",
   "language": "python",
   "name": "python3"
  },
  "language_info": {
   "codemirror_mode": {
    "name": "ipython",
    "version": 3
   },
   "file_extension": ".py",
   "mimetype": "text/x-python",
   "name": "python",
   "nbconvert_exporter": "python",
   "pygments_lexer": "ipython3",
   "version": "3.12.9"
  }
 },
 "nbformat": 4,
 "nbformat_minor": 5
}

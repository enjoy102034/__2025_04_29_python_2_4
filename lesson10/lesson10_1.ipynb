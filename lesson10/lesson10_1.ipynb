{
 "cells": [
  {
   "cell_type": "markdown",
   "id": "820b82fd",
   "metadata": {},
   "source": [
    "[說明連結](https://www.perplexity.ai/search/8a22aac5-dc37-4bbb-bb81-9edfdd6f0e53)"
   ]
  },
  {
   "cell_type": "markdown",
   "id": "3f600630",
   "metadata": {},
   "source": [
    "- 請用亂數,取出指定數量的姓名 #5\n",
    "- 介面:\n",
    "- 請輸入所需要的姓名數量:3\n",
    "- 輸出:\n",
    "- 1 陳怡伶\n",
    "- 2 賴心怡\n",
    "- 3 林詠斌"
   ]
  },
  {
   "cell_type": "code",
   "execution_count": 2,
   "id": "713acbf8",
   "metadata": {},
   "outputs": [
    {
     "name": "stdout",
     "output_type": "stream",
     "text": [
      "1.陳冠霞\n",
      "2.詹忠光\n",
      "3.趙家豪\n"
     ]
    }
   ],
   "source": [
    "import random\n",
    "\n",
    "file = open(\"names.txt\", encoding='utf-8')\n",
    "contents: list[str] = file.readlines()\n",
    "file.close()\n",
    "\n",
    "names: list[str] = [name.strip() for name in contents]\n",
    "\n",
    "# 假設你想從 names 中隨機抽取 5 個不重複的姓名\n",
    "pick = int(input(\"請輸入所需要的姓名數量\"))\n",
    "\n",
    "for idx, name in enumerate(random.sample(names, pick)):\n",
    "    print(f'{idx+1}.{name}')"
   ]
  },
  {
   "cell_type": "markdown",
   "id": "1f24bb70",
   "metadata": {},
   "source": [
    "### 建立記憶體的表格資料"
   ]
  },
  {
   "cell_type": "code",
   "execution_count": 3,
   "id": "f1565555",
   "metadata": {},
   "outputs": [
    {
     "data": {
      "text/plain": [
       "[{'姓名': '洪奎夫', '國文': 52, '英文': 51, '數學': 50},\n",
       " {'姓名': '張慧君', '國文': 83, '英文': 57, '數學': 88},\n",
       " {'姓名': '吳柏誠', '國文': 89, '英文': 58, '數學': 53},\n",
       " {'姓名': '吳欣書', '國文': 91, '英文': 59, '數學': 56},\n",
       " {'姓名': '林怡偉', '國文': 94, '英文': 95, '數學': 92}]"
      ]
     },
     "execution_count": 3,
     "metadata": {},
     "output_type": "execute_result"
    }
   ],
   "source": [
    "import random\n",
    "\n",
    "file = open(\"names.txt\",encoding='utf-8')\n",
    "contents:list[str] = file.readlines()\n",
    "file.close()\n",
    "names:list[str] = [name.strip() for name in contents]\n",
    "pick = int(input(\"請輸入所需要的姓名數量:\"));\n",
    "\n",
    "selected_names = random.sample(names, pick)\n",
    "students_data:list[dict] = [\n",
    "    {\n",
    "        '姓名':name,\n",
    "        '國文':random.randint(50,100),\n",
    "        '英文':random.randint(50,100),\n",
    "        '數學':random.randint(50, 100) \n",
    "    }\n",
    "    for name in selected_names]\n",
    "students_data"
   ]
  },
  {
   "cell_type": "markdown",
   "id": "3bd20cba",
   "metadata": {},
   "source": [
    "### 利用csv.DictWriter(),建立csv檔"
   ]
  },
  {
   "cell_type": "code",
   "execution_count": null,
   "id": "eddca553",
   "metadata": {},
   "outputs": [
    {
     "data": {
      "text/plain": [
       "[{'姓名': '蘇凡菁', '國文': 90, '英文': 92, '數學': 78},\n",
       " {'姓名': '王梅劭', '國文': 70, '英文': 89, '數學': 65},\n",
       " {'姓名': '賴昌韻', '國文': 87, '英文': 55, '數學': 80},\n",
       " {'姓名': '陳姵彬', '國文': 71, '英文': 97, '數學': 69},\n",
       " {'姓名': '李佳彥', '國文': 98, '英文': 61, '數學': 69},\n",
       " {'姓名': '張慧君', '國文': 52, '英文': 77, '數學': 57},\n",
       " {'姓名': '唐雪豪', '國文': 87, '英文': 51, '數學': 69},\n",
       " {'姓名': '戴萱能', '國文': 84, '英文': 69, '數學': 63},\n",
       " {'姓名': '吳孟穎', '國文': 88, '英文': 69, '數學': 98},\n",
       " {'姓名': '方筠紹', '國文': 60, '英文': 76, '數學': 58},\n",
       " {'姓名': '林建宏', '國文': 86, '英文': 98, '數學': 97},\n",
       " {'姓名': '盧冠發', '國文': 85, '英文': 80, '數學': 86},\n",
       " {'姓名': '胡淑貞', '國文': 60, '英文': 65, '數學': 53},\n",
       " {'姓名': '吳俐芷', '國文': 94, '英文': 81, '數學': 60},\n",
       " {'姓名': '溫重意', '國文': 90, '英文': 50, '數學': 96},\n",
       " {'姓名': '黃詩妃', '國文': 61, '英文': 76, '數學': 64},\n",
       " {'姓名': '洪阿惠', '國文': 81, '英文': 94, '數學': 83},\n",
       " {'姓名': '賴佳雯', '國文': 67, '英文': 60, '數學': 96},\n",
       " {'姓名': '李淑芳', '國文': 75, '英文': 74, '數學': 60},\n",
       " {'姓名': '黃麗美', '國文': 55, '英文': 92, '數學': 96}]"
      ]
     },
     "execution_count": 5,
     "metadata": {},
     "output_type": "execute_result"
    }
   ],
   "source": [
    "import random\n",
    "\n",
    "with open(\"names.txt\",encoding='utf-8') as file:\n",
    "    contents:list[str] = file.readlines()\n",
    "\n",
    "names:list[str] = [name.strip() for name in contents]\n",
    "pick = int(input(\"請輸入所需要的姓名數量:\"));\n",
    "\n",
    "selected_names = random.sample(names, pick)\n",
    "students_data:list[dict] = [\n",
    "    {\n",
    "        '姓名':name,\n",
    "        '國文':random.randint(50,100),\n",
    "        '英文':random.randint(50,100),\n",
    "        '數學':random.randint(50, 100) \n",
    "    }\n",
    "    for name in selected_names]\n",
    "students_data"
   ]
  },
  {
   "cell_type": "code",
   "execution_count": 4,
   "id": "f6d51985",
   "metadata": {},
   "outputs": [
    {
     "name": "stdout",
     "output_type": "stream",
     "text": [
      "寫入成功\n"
     ]
    }
   ],
   "source": [
    "# 指定欄位名稱（欄位順序）\n",
    "import csv\n",
    "\n",
    "filednames = students_data[0].keys()\n",
    "\n",
    "with open('students.csv','w',newline='',encoding='utf-8') as csvfile:\n",
    "    writer = csv.DictWriter(csvfile,fieldnames=filednames)\n",
    "    # 寫入欄位標題\n",
    "    writer.writeheader()\n",
    "    \n",
    "    # 寫入多筆資料\n",
    "    writer.writerows(students_data)\n",
    "print(\"寫入成功\")"
   ]
  }
 ],
 "metadata": {
  "kernelspec": {
   "display_name": "base",
   "language": "python",
   "name": "python3"
  },
  "language_info": {
   "codemirror_mode": {
    "name": "ipython",
    "version": 3
   },
   "file_extension": ".py",
   "mimetype": "text/x-python",
   "name": "python",
   "nbconvert_exporter": "python",
   "pygments_lexer": "ipython3",
   "version": "3.12.9"
  }
 },
 "nbformat": 4,
 "nbformat_minor": 5
}

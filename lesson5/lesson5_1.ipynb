{
 "cells": [
  {
   "cell_type": "code",
   "execution_count": 1,
   "id": "3604d755",
   "metadata": {},
   "outputs": [
    {
     "name": "stdout",
     "output_type": "stream",
     "text": [
      "ERROR! Session/line number was not unique in database. History logging moved to new session 24\n",
      "丁\n"
     ]
    }
   ],
   "source": [
    "scores = int(input(\"請輸入學生分數0~100\"))\n",
    "if scores < 60:\n",
    "    print('丁')\n",
    "elif scores < 70:\n",
    "    print(\"丙\")\n",
    "elif scores < 80:\n",
    "    print(\"乙\")\n",
    "elif scores < 90:\n",
    "    print(\"甲\")\n",
    "else:\n",
    "    print(\"優\")"
   ]
  },
  {
   "cell_type": "code",
   "execution_count": 3,
   "id": "96a4d195",
   "metadata": {},
   "outputs": [
    {
     "ename": "SyntaxError",
     "evalue": "invalid syntax (2593038407.py, line 3)",
     "output_type": "error",
     "traceback": [
      "  \u001b[36mCell\u001b[39m\u001b[36m \u001b[39m\u001b[32mIn[3]\u001b[39m\u001b[32m, line 3\u001b[39m\n\u001b[31m    \u001b[39m\u001b[31m- 邏輯運算子(and 或 or)\u001b[39m\n            ^\n\u001b[31mSyntaxError\u001b[39m\u001b[31m:\u001b[39m invalid syntax\n"
     ]
    }
   ],
   "source": [
    "### 組合2個條件\n",
    "- 巢狀判斷\n",
    "- 邏輯運算子(and 或 or)"
   ]
  },
  {
   "cell_type": "code",
   "execution_count": 8,
   "id": "44452b07",
   "metadata": {},
   "outputs": [
    {
     "name": "stdout",
     "output_type": "stream",
     "text": [
      "獎金0\n"
     ]
    }
   ],
   "source": [
    "#國文100同時數學100->1000元\n",
    "#國文100或者數學100->500元\n",
    "#其它->0元\n",
    "\n",
    "chinese = int(input(\"請輸入國文分數\"))\n",
    "math = int(input(\"請輸入分數\"))\n",
    "           \n",
    "if chinese == 100 and math == 100:\n",
    "    print(\"獎金1000\")\n",
    "elif chinese == 100 or math == 100:\n",
    "    print(\"獎金50\")\n",
    "else:\n",
    "    print(\"獎金0\")\n"
   ]
  },
  {
   "cell_type": "code",
   "execution_count": null,
   "id": "ea0eda11",
   "metadata": {},
   "outputs": [],
   "source": []
  }
 ],
 "metadata": {
  "kernelspec": {
   "display_name": "base",
   "language": "python",
   "name": "python3"
  },
  "language_info": {
   "codemirror_mode": {
    "name": "ipython",
    "version": 3
   },
   "file_extension": ".py",
   "mimetype": "text/x-python",
   "name": "python",
   "nbconvert_exporter": "python",
   "pygments_lexer": "ipython3",
   "version": "3.12.9"
  }
 },
 "nbformat": 4,
 "nbformat_minor": 5
}

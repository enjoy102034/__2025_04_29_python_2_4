{
 "cells": [
  {
   "cell_type": "code",
   "execution_count": 6,
   "id": "5a01c4a8",
   "metadata": {},
   "outputs": [
    {
     "name": "stdout",
     "output_type": "stream",
     "text": [
      "你的身高:200.0 公分\n",
      "你的體重:50.00 公斤\n",
      "你的 BMI值為:12.5\n"
     ]
    }
   ],
   "source": [
    "#要檢查輸入格式錯誤\n",
    "#身高限制120~220之間 => 自已raise\n",
    "#體重限制30~200之間 => 自已raise\n",
    "\n",
    "###BMI計算器\n",
    "try:\n",
    "    height:int = int(input('請輸入你的身高(公分 cm):'))\n",
    "    if height < 120 or height > 220:\n",
    "        raise Exception(f'輸入的身高: {height} 公分 不在 120 ~ 220 範圍內')\n",
    "    height /= 100\n",
    "    weight = eval(input('請輸入你的體重(公斤 kg):'))\n",
    "    if weight < 30.0 or weight > 200.0:\n",
    "        raise Exception(f'輸入的體重: {weight:.2f} 公斤 不在 30 ~ 200 範圍內')\n",
    "    bmicalculate = weight / height ** 2\n",
    "except ValueError:\n",
    "    print('輸入發生錯誤')\n",
    "except Exception as e :\n",
    "    print(e)\n",
    "else:\n",
    "    print(f'你的身高:{height*100} 公分')\n",
    "    print(f'你的體重:{weight:.2f} 公斤')\n",
    "    print(f'你的 BMI值為:{bmicalculate}')\n"
   ]
  },
  {
   "cell_type": "code",
   "execution_count": null,
   "id": "71895044",
   "metadata": {},
   "outputs": [
    {
     "ename": "SyntaxError",
     "evalue": "expected ':' (3985911553.py, line 1)",
     "output_type": "error",
     "traceback": [
      "  \u001b[36mCell\u001b[39m\u001b[36m \u001b[39m\u001b[32mIn[7]\u001b[39m\u001b[32m, line 1\u001b[39m\n\u001b[31m    \u001b[39m\u001b[31mwhile 不確定知道執行的次數\u001b[39m\n                    ^\n\u001b[31mSyntaxError\u001b[39m\u001b[31m:\u001b[39m expected ':'\n"
     ]
    }
   ],
   "source": []
  },
  {
   "cell_type": "code",
   "execution_count": null,
   "id": "f761c4ac",
   "metadata": {},
   "outputs": [
    {
     "ename": "",
     "evalue": "",
     "output_type": "error",
     "traceback": [
      "\u001b[1;31m執行具有 'Python 3.11.2' 的儲存格需要 ipykernel 套件。\n",
      "\u001b[1;31m使用所需的套件<a href='command:jupyter.createPythonEnvAndSelectController'>建立 Python 環境</a>。"
     ]
    }
   ],
   "source": [
    "#要檢查輸入格式錯誤\n",
    "#身高限制120~220之間 => 自已raise\n",
    "#體重限制30~200之間 => 自已raise\n",
    "\n",
    "###BMI計算器\n",
    "try:\n",
    "    height:int = int(input('請輸入你的身高(公分 cm):'))\n",
    "    if height < 120 or height > 220:\n",
    "        raise Exception(f'輸入的身高: {height} 公分 不在 120 ~ 220 範圍內')\n",
    "    height /= 100\n",
    "    weight = eval(input('請輸入你的體重(公斤 kg):'))\n",
    "    if weight < 30.0 or weight > 200.0:\n",
    "        raise Exception(f'輸入的體重: {weight:.2f} 公斤 不在 30 ~ 200 範圍內')\n",
    "    bmicalculate = weight / height ** 2\n",
    "except ValueError:\n",
    "    print('輸入發生錯誤')\n",
    "except Exception as e :\n",
    "    print(e)\n",
    "else:\n",
    "    print(f'你的身高:{height*100} 公分')\n",
    "    print(f'你的體重:{weight:.2f} 公斤')\n",
    "    print(f'你的 BMI值為:{bmicalculate}')\n",
    "\n",
    "           \n",
    "if bmicalculate < 18.5:\n",
    "    print(\"體重過輕\")\n",
    "elif bmicalculate >= 24 and bmicalculate < 27:\n",
    "    print(\"過重\")\n",
    "elif bmicalculate >= 27 and bmicalculate < 30:\n",
    "    print(\"輕度肥胖\")\n",
    "elif bmicalculate >= 30 and bmicalculate < 35:\n",
    "    print(\"中度肥胖\")\n",
    "elif bmicalculate >= 35:\n",
    "    print(\"重度肥胖\")\n",
    "else:\n",
    "    print(\"正常範圍\")\n"
   ]
  },
  {
   "cell_type": "code",
   "execution_count": null,
   "id": "a4bb104e",
   "metadata": {},
   "outputs": [],
   "source": []
  },
  {
   "cell_type": "code",
   "execution_count": null,
   "id": "c0628d5b",
   "metadata": {},
   "outputs": [],
   "source": []
  }
 ],
 "metadata": {
  "kernelspec": {
   "display_name": "Python 3",
   "language": "python",
   "name": "python3"
  },
  "language_info": {
   "codemirror_mode": {
    "name": "ipython",
    "version": 3
   },
   "file_extension": ".py",
   "mimetype": "text/x-python",
   "name": "python",
   "nbconvert_exporter": "python",
   "pygments_lexer": "ipython3",
   "version": "3.11.2"
  }
 },
 "nbformat": 4,
 "nbformat_minor": 5
}

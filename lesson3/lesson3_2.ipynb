{
 "cells": [
  {
   "cell_type": "markdown",
   "id": "70b25d71",
   "metadata": {},
   "source": [
    "# 複合指定運算子\n",
    "- +=\n",
    "- -=\n",
    "- *=\n",
    "- /=\n",
    "- //=\n",
    "- %=\n",
    "- **="
   ]
  },
  {
   "cell_type": "code",
   "execution_count": 2,
   "id": "8445adbf",
   "metadata": {},
   "outputs": [
    {
     "name": "stdout",
     "output_type": "stream",
     "text": [
      "15\n"
     ]
    }
   ],
   "source": [
    "n = 5\n",
    "n = n + 10\n",
    "print(n)"
   ]
  },
  {
   "cell_type": "code",
   "execution_count": 4,
   "id": "9e211354",
   "metadata": {},
   "outputs": [
    {
     "name": "stdout",
     "output_type": "stream",
     "text": [
      "15\n"
     ]
    }
   ],
   "source": [
    "n = 5\n",
    "n += 10 #複合指令運算子\n",
    "print(n)"
   ]
  },
  {
   "cell_type": "markdown",
   "id": "bdc83a86",
   "metadata": {},
   "source": [
    "### 使用內建函式庫"
   ]
  },
  {
   "cell_type": "code",
   "execution_count": 11,
   "id": "8204c160",
   "metadata": {},
   "outputs": [
    {
     "name": "stdout",
     "output_type": "stream",
     "text": [
      "鄰邊: 3\n",
      "對邊: 4\n",
      "斜邊: 5.0\n"
     ]
    }
   ],
   "source": [
    "#國中數學 a ** 2 + b ** 2 = c ** 2 三角函數\n",
    "import math\n",
    "side = eval(input(\"請輸入鄰邊:\"))\n",
    "another_side = eval(input(\"請輸入對邊:\"))\n",
    "result = math.sqrt(side ** 2 + another_side ** 2)\n",
    "print(\"鄰邊:\",side)\n",
    "print(\"對邊:\",another_side)\n",
    "print(\"斜邊:\",result)"
   ]
  },
  {
   "cell_type": "markdown",
   "id": "630bc422",
   "metadata": {},
   "source": [
    "### 高中數學 弳度 asin(a/c) 角度 = 弳度"
   ]
  },
  {
   "cell_type": "code",
   "execution_count": 23,
   "id": "fe2c473d",
   "metadata": {},
   "outputs": [
    {
     "name": "stdout",
     "output_type": "stream",
     "text": [
      "對邊: 3\n",
      "斜邊: 5\n",
      "角度: 36.86989764584402\n"
     ]
    }
   ],
   "source": [
    "### 高中數學\n",
    "import math\n",
    "side = eval(input(\"請輸入對邊:\"))\n",
    "another_side = eval(input(\"請輸入斜邊:\"))\n",
    "radian = math.asin(side/another_side)\n",
    "degree = math.degrees(radian)\n",
    "\n",
    "print('對邊:',side)\n",
    "print('斜邊:',another_side)\n",
    "print('角度:',degree)\n"
   ]
  },
  {
   "cell_type": "code",
   "execution_count": 25,
   "id": "abce2cd8",
   "metadata": {},
   "outputs": [],
   "source": [
    " # 字串插補(字串的格式化)"
   ]
  },
  {
   "cell_type": "code",
   "execution_count": 27,
   "id": "1d061556",
   "metadata": {},
   "outputs": [
    {
     "name": "stdout",
     "output_type": "stream",
     "text": [
      "國文成績:92,數學成績:100\n"
     ]
    }
   ],
   "source": [
    "#字串相加\n",
    "chinese = 92\n",
    "math = 100\n",
    "print(\"國文成績:\" + str(chinese) + \",數學成績:\" + str(math))"
   ]
  },
  {
   "cell_type": "code",
   "execution_count": 32,
   "id": "6e8f8dc6",
   "metadata": {},
   "outputs": [
    {
     "name": "stdout",
     "output_type": "stream",
     "text": [
      "國文成績:92.38,數學成績:100\n"
     ]
    }
   ],
   "source": [
    "#字串和變數整合,成為全新的字串\n",
    "#字串插補\n",
    "chinese = 92.3756\n",
    "math = 100\n",
    "print(f\"國文成績:{chinese:.2f},數學成績:{math}\")"
   ]
  },
  {
   "cell_type": "code",
   "execution_count": 33,
   "id": "008bd986",
   "metadata": {},
   "outputs": [
    {
     "name": "stdout",
     "output_type": "stream",
     "text": [
      "對邊:2.5\n",
      "對邊:5\n",
      "對邊:30.00\n"
     ]
    }
   ],
   "source": [
    "### 高中數學\n",
    "import math\n",
    "side = eval(input(\"請輸入對邊:\"))\n",
    "another_side = eval(input(\"請輸入斜邊:\"))\n",
    "radian = math.asin(side/another_side)\n",
    "degree = math.degrees(radian)\n",
    "\n",
    "print(f'對邊:{side}')\n",
    "print(f'對邊:{another_side}')\n",
    "print(f'對邊:{degree:.2f}')"
   ]
  },
  {
   "cell_type": "code",
   "execution_count": null,
   "id": "52779c2e",
   "metadata": {},
   "outputs": [],
   "source": []
  }
 ],
 "metadata": {
  "kernelspec": {
   "display_name": "base",
   "language": "python",
   "name": "python3"
  },
  "language_info": {
   "codemirror_mode": {
    "name": "ipython",
    "version": 3
   },
   "file_extension": ".py",
   "mimetype": "text/x-python",
   "name": "python",
   "nbconvert_exporter": "python",
   "pygments_lexer": "ipython3",
   "version": "3.12.9"
  }
 },
 "nbformat": 4,
 "nbformat_minor": 5
}

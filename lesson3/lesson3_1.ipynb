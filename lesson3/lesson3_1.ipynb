{
 "cells": [
  {
   "cell_type": "markdown",
   "id": "95f3c3a0",
   "metadata": {},
   "source": [
    "---\n",
    "### 數值運算(int,float)\n",
    "### 數學運算子\n",
    "### 運算子運算順序"
   ]
  },
  {
   "cell_type": "code",
   "execution_count": null,
   "id": "d448cb82",
   "metadata": {},
   "outputs": [],
   "source": [
    "2 * (1 + 2) ** 2 - 2 ** 2 * 2"
   ]
  },
  {
   "cell_type": "code",
   "execution_count": null,
   "id": "948b3ba9",
   "metadata": {},
   "outputs": [],
   "source": [
    "5 + 10 #運算式\n",
    "20 + 5 #運算式"
   ]
  },
  {
   "cell_type": "markdown",
   "id": "983d5e71",
   "metadata": {},
   "source": [
    "### 建立變數，指定運算子"
   ]
  },
  {
   "cell_type": "code",
   "execution_count": null,
   "id": "1bfad9cb",
   "metadata": {},
   "outputs": [],
   "source": [
    "n = 15 #指定運算子"
   ]
  },
  {
   "cell_type": "code",
   "execution_count": null,
   "id": "c3656eb3",
   "metadata": {},
   "outputs": [],
   "source": [
    "n = 15 #敘述式 #不會傳出任何東西\n",
    "m = 25 #敘述式\n",
    "total = n + m #敘述式\n",
    "print (\"total=\", total) #敘述式"
   ]
  },
  {
   "cell_type": "code",
   "execution_count": null,
   "id": "2d2978df",
   "metadata": {},
   "outputs": [],
   "source": [
    "x = 5 + 10\n",
    "y = 20 + 5\n",
    "print (x, y)"
   ]
  },
  {
   "cell_type": "markdown",
   "id": "a09cbfa9",
   "metadata": {},
   "source": [
    "### 輸入\n",
    "- input()\n",
    "\n",
    "### 輸出\n",
    "- print()"
   ]
  },
  {
   "cell_type": "code",
   "execution_count": null,
   "id": "9c6e6569",
   "metadata": {},
   "outputs": [],
   "source": [
    "value_str = input(\"請輸入整數:\")\n",
    "value = int(value_str)\n",
    "print(\"您輸入的是整數:\", value)"
   ]
  },
  {
   "cell_type": "code",
   "execution_count": null,
   "id": "24036f00",
   "metadata": {},
   "outputs": [],
   "source": [
    "value1 = int(input(\"請輸入第1個整數:\"))\n",
    "value2 = int(input(\"請輸入第2個整數:\"))\n",
    "total = value1 + value2\n",
    "print(\"2數相加合是:\", total)"
   ]
  },
  {
   "cell_type": "code",
   "execution_count": null,
   "id": "8f4dab3a",
   "metadata": {},
   "outputs": [],
   "source": [
    "width = eval(input(\"請輸入矩形寬:\"))\n",
    "height = eval(input(\"請輸入矩形寬:\"))\n",
    "area = width * height\n",
    "print(\"矩形寬是:\",width)\n",
    "print(\"矩形高是:\",height)\n",
    "print(\"矩形面積是:\",area)"
   ]
  }
 ],
 "metadata": {
  "kernelspec": {
   "display_name": "base",
   "language": "python",
   "name": "python3"
  },
  "language_info": {
   "codemirror_mode": {
    "name": "ipython",
    "version": 3
   },
   "file_extension": ".py",
   "mimetype": "text/x-python",
   "name": "python",
   "nbconvert_exporter": "python",
   "pygments_lexer": "ipython3",
   "version": "3.12.9"
  }
 },
 "nbformat": 4,
 "nbformat_minor": 5
}
